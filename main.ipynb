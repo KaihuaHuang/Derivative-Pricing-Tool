{
 "cells": [
  {
   "cell_type": "code",
   "execution_count": 1,
   "metadata": {},
   "outputs": [],
   "source": [
    "from PricingTool import BlackScholes\n",
    "from PricingTool import PDEPricer"
   ]
  },
  {
   "cell_type": "code",
   "execution_count": 2,
   "metadata": {},
   "outputs": [
    {
     "name": "stdout",
     "output_type": "stream",
     "text": [
      "BSprice: 0.40765769561251775\n",
      "{'delta': 0.2478252422617886, 'gamma': 0.09527164524788367, 'vega': 2.8581493574365107, 'rho': 2.0705947270053686, 'theta': 0.0669280809081006}\n"
     ]
    }
   ],
   "source": [
    "(S0, K, T, vol, r, d) = (10, 10, 1, 0.3, 0., 0.2)\n",
    "option = BlackScholes(S0, K, vol, d, T, 1, r)\n",
    "print('BSprice:',option.bsValue())\n",
    "print(option.greeks())"
   ]
  },
  {
   "cell_type": "code",
   "execution_count": null,
   "metadata": {},
   "outputs": [],
   "source": [
    "PDE = PDEPricer(S0, K, vol, d, T, 1, r)\n",
    "print(PDE.optionVal(PDE.vanillaPayoff(),500,500,method = 'Crank-Nicolson',logSpace = True))\n",
    "print(PDE.greeks())"
   ]
  }
 ],
 "metadata": {
  "kernelspec": {
   "display_name": "Python 3",
   "language": "python",
   "name": "python3"
  },
  "language_info": {
   "codemirror_mode": {
    "name": "ipython",
    "version": 3
   },
   "file_extension": ".py",
   "mimetype": "text/x-python",
   "name": "python",
   "nbconvert_exporter": "python",
   "pygments_lexer": "ipython3",
   "version": "3.6.4"
  }
 },
 "nbformat": 4,
 "nbformat_minor": 2
}
